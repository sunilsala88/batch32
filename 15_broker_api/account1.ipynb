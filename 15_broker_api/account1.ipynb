{
 "cells": [
  {
   "cell_type": "code",
   "execution_count": 1,
   "id": "11323ad0",
   "metadata": {},
   "outputs": [
    {
     "data": {
      "text/plain": [
       "{   'account_blocked': False,\n",
       "    'account_number': 'PA32II6CTZQA',\n",
       "    'accrued_fees': '0',\n",
       "    'buying_power': '581746.39',\n",
       "    'cash': '14992.74',\n",
       "    'created_at': datetime.datetime(2024, 8, 24, 9, 13, 29, 133143, tzinfo=TzInfo(UTC)),\n",
       "    'crypto_status': <AccountStatus.ACTIVE: 'ACTIVE'>,\n",
       "    'currency': 'USD',\n",
       "    'daytrade_count': 0,\n",
       "    'daytrading_buying_power': '581746.39',\n",
       "    'equity': '1122645.06',\n",
       "    'id': UUID('28959f70-ced0-4150-a908-c1d2ef1a475a'),\n",
       "    'initial_margin': '94914.85',\n",
       "    'last_equity': '1120879.796913213075',\n",
       "    'last_maintenance_margin': '56937.17',\n",
       "    'long_market_value': '1101834.44',\n",
       "    'maintenance_margin': '56937.17',\n",
       "    'multiplier': '4',\n",
       "    'non_marginable_buying_power': '105493.92',\n",
       "    'options_approved_level': 3,\n",
       "    'options_buying_power': '107493.92',\n",
       "    'options_trading_level': 3,\n",
       "    'pattern_day_trader': True,\n",
       "    'pending_transfer_in': None,\n",
       "    'pending_transfer_out': None,\n",
       "    'portfolio_value': '1122645.06',\n",
       "    'regt_buying_power': '214987.84',\n",
       "    'short_market_value': '-1136.83',\n",
       "    'shorting_enabled': True,\n",
       "    'sma': '212440.54',\n",
       "    'status': <AccountStatus.ACTIVE: 'ACTIVE'>,\n",
       "    'trade_suspended_by_user': False,\n",
       "    'trading_blocked': False,\n",
       "    'transfers_blocked': False}"
      ]
     },
     "execution_count": 1,
     "metadata": {},
     "output_type": "execute_result"
    }
   ],
   "source": [
    "from alpaca.trading.client import TradingClient\n",
    "api_key='PKCGQ99MC5FQA1P8ZSRE'\n",
    "secret_key='rkWLI1F2poiTbuERdzozfOLgVV6mrFKTH27Ugvb1'\n",
    "trading_client = TradingClient(api_key, secret_key, paper=True)\n",
    "\n",
    "account = trading_client.get_account()\n",
    "account"
   ]
  }
 ],
 "metadata": {
  "kernelspec": {
   "display_name": ".venv",
   "language": "python",
   "name": "python3"
  },
  "language_info": {
   "codemirror_mode": {
    "name": "ipython",
    "version": 3
   },
   "file_extension": ".py",
   "mimetype": "text/x-python",
   "name": "python",
   "nbconvert_exporter": "python",
   "pygments_lexer": "ipython3",
   "version": "3.12.8"
  }
 },
 "nbformat": 4,
 "nbformat_minor": 5
}
