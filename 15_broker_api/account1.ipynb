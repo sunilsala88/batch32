{
 "cells": [
  {
   "cell_type": "code",
   "execution_count": null,
   "id": "11323ad0",
   "metadata": {},
   "outputs": [],
   "source": [
    "from alpaca.trading.client import TradingClient\n",
    "api_key='PKCGQ99MC5FQA1P8ZSRE'\n",
    "secret_key='rkWLI1F2poiTbuERdzozfOLgVV6mrFKTH27Ugvb1'\n",
    "trading_client = TradingClient(api_key, secret_key, paper=True)\n",
    "\n",
    "account = trading_client.get_account()\n",
    "account"
   ]
  },
  {
   "cell_type": "code",
   "execution_count": null,
   "id": "84a1c5c9",
   "metadata": {},
   "outputs": [
    {
     "ename": "NameError",
     "evalue": "name 'account' is not defined",
     "output_type": "error",
     "traceback": [
      "\u001b[31m---------------------------------------------------------------------------\u001b[39m",
      "\u001b[31mNameError\u001b[39m                                 Traceback (most recent call last)",
      "\u001b[36mCell\u001b[39m\u001b[36m \u001b[39m\u001b[32mIn[1]\u001b[39m\u001b[32m, line 1\u001b[39m\n\u001b[32m----> \u001b[39m\u001b[32m1\u001b[39m \u001b[43maccount\u001b[49m\n",
      "\u001b[31mNameError\u001b[39m: name 'account' is not defined"
     ]
    }
   ],
   "source": [
    "account"
   ]
  }
 ],
 "metadata": {
  "kernelspec": {
   "display_name": ".venv",
   "language": "python",
   "name": "python3"
  },
  "language_info": {
   "codemirror_mode": {
    "name": "ipython",
    "version": 3
   },
   "file_extension": ".py",
   "mimetype": "text/x-python",
   "name": "python",
   "nbconvert_exporter": "python",
   "pygments_lexer": "ipython3",
   "version": "3.12.8"
  }
 },
 "nbformat": 4,
 "nbformat_minor": 5
}
