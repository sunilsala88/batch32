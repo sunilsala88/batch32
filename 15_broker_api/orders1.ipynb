{
 "cells": [
  {
   "cell_type": "code",
   "execution_count": 6,
   "id": "e8f4d57f",
   "metadata": {},
   "outputs": [],
   "source": [
    "from alpaca.trading.client import TradingClient\n",
    "api_key='PKCGQ99MC5FQA1P8ZSRE'\n",
    "secret_key='rkWLI1F2poiTbuERdzozfOLgVV6mrFKTH27Ugvb1'\n",
    "trading_client = TradingClient(api_key, secret_key, paper=True)"
   ]
  },
  {
   "cell_type": "markdown",
   "id": "529f7aa4",
   "metadata": {},
   "source": [
    "market order for stok"
   ]
  },
  {
   "cell_type": "code",
   "execution_count": null,
   "id": "cdc93eba",
   "metadata": {},
   "outputs": [],
   "source": [
    "from alpaca.trading.requests import MarketOrderRequest\n",
    "from alpaca.trading.enums import OrderSide, TimeInForce\n",
    "# preparing orders\n",
    "symbol='JPM'\n",
    "market_order_data = MarketOrderRequest(\n",
    "                    symbol=symbol,\n",
    "                    qty=1,\n",
    "                    side=OrderSide.BUY,\n",
    "                    time_in_force=TimeInForce.DAY\n",
    "                    )\n",
    "\n",
    "# Market order\n",
    "market_order = trading_client.submit_order(\n",
    "                order_data=market_order_data\n",
    "               )\n",
    "market_order"
   ]
  },
  {
   "cell_type": "markdown",
   "id": "9dfce56d",
   "metadata": {},
   "source": [
    "market order for crypto"
   ]
  },
  {
   "cell_type": "code",
   "execution_count": null,
   "id": "9e4e16c9",
   "metadata": {},
   "outputs": [],
   "source": [
    "from alpaca.trading.requests import MarketOrderRequest\n",
    "from alpaca.trading.enums import OrderSide, TimeInForce\n",
    "# preparing orders\n",
    "symbol='SOL/USD'\n",
    "market_order_data = MarketOrderRequest(\n",
    "                    symbol=symbol,\n",
    "                    qty=1,\n",
    "                    side=OrderSide.BUY,\n",
    "                    time_in_force=TimeInForce.GTC\n",
    "                    )\n",
    "\n",
    "# Market order\n",
    "market_order = trading_client.submit_order(\n",
    "                order_data=market_order_data\n",
    "               )\n",
    "market_order"
   ]
  },
  {
   "cell_type": "markdown",
   "id": "7fdaa52c",
   "metadata": {},
   "source": [
    "limit order"
   ]
  },
  {
   "cell_type": "code",
   "execution_count": 10,
   "id": "6a5063c6",
   "metadata": {},
   "outputs": [
    {
     "data": {
      "text/plain": [
       "{   'asset_class': <AssetClass.US_EQUITY: 'us_equity'>,\n",
       "    'asset_id': UUID('4ce9353c-66d1-46c2-898f-fce867ab0247'),\n",
       "    'canceled_at': None,\n",
       "    'client_order_id': 'b5549368-0917-497e-9d4d-e23abd507a76',\n",
       "    'created_at': datetime.datetime(2025, 8, 10, 11, 27, 54, 526990, tzinfo=TzInfo(UTC)),\n",
       "    'expired_at': None,\n",
       "    'expires_at': datetime.datetime(2025, 11, 7, 21, 0, tzinfo=TzInfo(UTC)),\n",
       "    'extended_hours': False,\n",
       "    'failed_at': None,\n",
       "    'filled_at': None,\n",
       "    'filled_avg_price': None,\n",
       "    'filled_qty': '0',\n",
       "    'hwm': None,\n",
       "    'id': UUID('af6e588c-cee0-49f4-80f1-8183d37f30be'),\n",
       "    'legs': None,\n",
       "    'limit_price': '180',\n",
       "    'notional': None,\n",
       "    'order_class': <OrderClass.SIMPLE: 'simple'>,\n",
       "    'order_type': <OrderType.LIMIT: 'limit'>,\n",
       "    'position_intent': <PositionIntent.BUY_TO_OPEN: 'buy_to_open'>,\n",
       "    'qty': '2',\n",
       "    'ratio_qty': None,\n",
       "    'replaced_at': None,\n",
       "    'replaced_by': None,\n",
       "    'replaces': None,\n",
       "    'side': <OrderSide.BUY: 'buy'>,\n",
       "    'status': <OrderStatus.ACCEPTED: 'accepted'>,\n",
       "    'stop_price': None,\n",
       "    'submitted_at': datetime.datetime(2025, 8, 10, 11, 27, 54, 526990, tzinfo=TzInfo(UTC)),\n",
       "    'symbol': 'NVDA',\n",
       "    'time_in_force': <TimeInForce.GTC: 'gtc'>,\n",
       "    'trail_percent': None,\n",
       "    'trail_price': None,\n",
       "    'type': <OrderType.LIMIT: 'limit'>,\n",
       "    'updated_at': datetime.datetime(2025, 8, 10, 11, 27, 54, 528423, tzinfo=TzInfo(UTC))}"
      ]
     },
     "execution_count": 10,
     "metadata": {},
     "output_type": "execute_result"
    }
   ],
   "source": [
    "from alpaca.trading.requests import LimitOrderRequest\n",
    "from alpaca.trading.enums import OrderSide,TimeInForce\n",
    "\n",
    "symbol='NVDA'\n",
    "lmt_object=LimitOrderRequest(\n",
    "    symbol=symbol,\n",
    "    qty=2,\n",
    "    side=OrderSide.BUY,\n",
    "    time_in_force=TimeInForce.GTC,\n",
    "    limit_price=180,\n",
    "\n",
    ")\n",
    "order=trading_client.submit_order(lmt_object)\n",
    "order"
   ]
  },
  {
   "cell_type": "markdown",
   "id": "df2c9d80",
   "metadata": {},
   "source": [
    "lmt order crypto"
   ]
  },
  {
   "cell_type": "code",
   "execution_count": 12,
   "id": "842ff594",
   "metadata": {},
   "outputs": [
    {
     "data": {
      "text/plain": [
       "{   'asset_class': <AssetClass.CRYPTO: 'crypto'>,\n",
       "    'asset_id': UUID('9226ef75-ba41-4a4b-a1b4-96e1a1b818f0'),\n",
       "    'canceled_at': None,\n",
       "    'client_order_id': '2b5639ab-0e30-4cc0-bd41-911e00f6019e',\n",
       "    'created_at': datetime.datetime(2025, 8, 10, 11, 32, 9, 718432, tzinfo=TzInfo(UTC)),\n",
       "    'expired_at': None,\n",
       "    'expires_at': datetime.datetime(2025, 11, 6, 21, 0, tzinfo=TzInfo(UTC)),\n",
       "    'extended_hours': False,\n",
       "    'failed_at': None,\n",
       "    'filled_at': None,\n",
       "    'filled_avg_price': None,\n",
       "    'filled_qty': '0',\n",
       "    'hwm': None,\n",
       "    'id': UUID('54436c06-3dc6-4702-99e8-12ea494287d5'),\n",
       "    'legs': None,\n",
       "    'limit_price': '180',\n",
       "    'notional': None,\n",
       "    'order_class': <OrderClass.SIMPLE: 'simple'>,\n",
       "    'order_type': <OrderType.LIMIT: 'limit'>,\n",
       "    'position_intent': <PositionIntent.BUY_TO_OPEN: 'buy_to_open'>,\n",
       "    'qty': '1',\n",
       "    'ratio_qty': None,\n",
       "    'replaced_at': None,\n",
       "    'replaced_by': None,\n",
       "    'replaces': None,\n",
       "    'side': <OrderSide.BUY: 'buy'>,\n",
       "    'status': <OrderStatus.PENDING_NEW: 'pending_new'>,\n",
       "    'stop_price': None,\n",
       "    'submitted_at': datetime.datetime(2025, 8, 10, 11, 32, 9, 718432, tzinfo=TzInfo(UTC)),\n",
       "    'symbol': 'SOL/USD',\n",
       "    'time_in_force': <TimeInForce.GTC: 'gtc'>,\n",
       "    'trail_percent': None,\n",
       "    'trail_price': None,\n",
       "    'type': <OrderType.LIMIT: 'limit'>,\n",
       "    'updated_at': datetime.datetime(2025, 8, 10, 11, 32, 9, 719811, tzinfo=TzInfo(UTC))}"
      ]
     },
     "execution_count": 12,
     "metadata": {},
     "output_type": "execute_result"
    }
   ],
   "source": [
    "from alpaca.trading.requests import LimitOrderRequest\n",
    "from alpaca.trading.enums import OrderSide,TimeInForce\n",
    "\n",
    "symbol='SOL/USD'\n",
    "lmt_object=LimitOrderRequest(\n",
    "    symbol=symbol,\n",
    "    qty=1,\n",
    "    side=OrderSide.BUY,\n",
    "    time_in_force=TimeInForce.GTC,\n",
    "    limit_price=180,\n",
    "\n",
    ")\n",
    "order=trading_client.submit_order(lmt_object)\n",
    "order"
   ]
  }
 ],
 "metadata": {
  "kernelspec": {
   "display_name": ".venv",
   "language": "python",
   "name": "python3"
  },
  "language_info": {
   "codemirror_mode": {
    "name": "ipython",
    "version": 3
   },
   "file_extension": ".py",
   "mimetype": "text/x-python",
   "name": "python",
   "nbconvert_exporter": "python",
   "pygments_lexer": "ipython3",
   "version": "3.12.8"
  }
 },
 "nbformat": 4,
 "nbformat_minor": 5
}
