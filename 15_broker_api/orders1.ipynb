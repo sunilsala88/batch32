{
 "cells": [
  {
   "cell_type": "code",
   "execution_count": 6,
   "id": "e8f4d57f",
   "metadata": {},
   "outputs": [],
   "source": [
    "from alpaca.trading.client import TradingClient\n",
    "api_key='PKCGQ99MC5FQA1P8ZSRE'\n",
    "secret_key='rkWLI1F2poiTbuERdzozfOLgVV6mrFKTH27Ugvb1'\n",
    "trading_client = TradingClient(api_key, secret_key, paper=True)"
   ]
  },
  {
   "cell_type": "markdown",
   "id": "529f7aa4",
   "metadata": {},
   "source": [
    "market order for stok"
   ]
  },
  {
   "cell_type": "code",
   "execution_count": null,
   "id": "cdc93eba",
   "metadata": {},
   "outputs": [],
   "source": [
    "from alpaca.trading.requests import MarketOrderRequest\n",
    "from alpaca.trading.enums import OrderSide, TimeInForce\n",
    "# preparing orders\n",
    "symbol='JPM'\n",
    "market_order_data = MarketOrderRequest(\n",
    "                    symbol=symbol,\n",
    "                    qty=1,\n",
    "                    side=OrderSide.BUY,\n",
    "                    time_in_force=TimeInForce.DAY\n",
    "                    )\n",
    "\n",
    "# Market order\n",
    "market_order = trading_client.submit_order(\n",
    "                order_data=market_order_data\n",
    "               )\n",
    "market_order"
   ]
  },
  {
   "cell_type": "markdown",
   "id": "9dfce56d",
   "metadata": {},
   "source": [
    "market order for crypto"
   ]
  },
  {
   "cell_type": "code",
   "execution_count": null,
   "id": "9e4e16c9",
   "metadata": {},
   "outputs": [],
   "source": [
    "from alpaca.trading.requests import MarketOrderRequest\n",
    "from alpaca.trading.enums import OrderSide, TimeInForce\n",
    "# preparing orders\n",
    "symbol='SOL/USD'\n",
    "market_order_data = MarketOrderRequest(\n",
    "                    symbol=symbol,\n",
    "                    qty=1,\n",
    "                    side=OrderSide.BUY,\n",
    "                    time_in_force=TimeInForce.GTC\n",
    "                    )\n",
    "\n",
    "# Market order\n",
    "market_order = trading_client.submit_order(\n",
    "                order_data=market_order_data\n",
    "               )\n",
    "market_order"
   ]
  },
  {
   "cell_type": "markdown",
   "id": "7fdaa52c",
   "metadata": {},
   "source": [
    "limit order"
   ]
  },
  {
   "cell_type": "code",
   "execution_count": 10,
   "id": "6a5063c6",
   "metadata": {},
   "outputs": [
    {
     "data": {
      "text/plain": [
       "{   'asset_class': <AssetClass.US_EQUITY: 'us_equity'>,\n",
       "    'asset_id': UUID('4ce9353c-66d1-46c2-898f-fce867ab0247'),\n",
       "    'canceled_at': None,\n",
       "    'client_order_id': 'b5549368-0917-497e-9d4d-e23abd507a76',\n",
       "    'created_at': datetime.datetime(2025, 8, 10, 11, 27, 54, 526990, tzinfo=TzInfo(UTC)),\n",
       "    'expired_at': None,\n",
       "    'expires_at': datetime.datetime(2025, 11, 7, 21, 0, tzinfo=TzInfo(UTC)),\n",
       "    'extended_hours': False,\n",
       "    'failed_at': None,\n",
       "    'filled_at': None,\n",
       "    'filled_avg_price': None,\n",
       "    'filled_qty': '0',\n",
       "    'hwm': None,\n",
       "    'id': UUID('af6e588c-cee0-49f4-80f1-8183d37f30be'),\n",
       "    'legs': None,\n",
       "    'limit_price': '180',\n",
       "    'notional': None,\n",
       "    'order_class': <OrderClass.SIMPLE: 'simple'>,\n",
       "    'order_type': <OrderType.LIMIT: 'limit'>,\n",
       "    'position_intent': <PositionIntent.BUY_TO_OPEN: 'buy_to_open'>,\n",
       "    'qty': '2',\n",
       "    'ratio_qty': None,\n",
       "    'replaced_at': None,\n",
       "    'replaced_by': None,\n",
       "    'replaces': None,\n",
       "    'side': <OrderSide.BUY: 'buy'>,\n",
       "    'status': <OrderStatus.ACCEPTED: 'accepted'>,\n",
       "    'stop_price': None,\n",
       "    'submitted_at': datetime.datetime(2025, 8, 10, 11, 27, 54, 526990, tzinfo=TzInfo(UTC)),\n",
       "    'symbol': 'NVDA',\n",
       "    'time_in_force': <TimeInForce.GTC: 'gtc'>,\n",
       "    'trail_percent': None,\n",
       "    'trail_price': None,\n",
       "    'type': <OrderType.LIMIT: 'limit'>,\n",
       "    'updated_at': datetime.datetime(2025, 8, 10, 11, 27, 54, 528423, tzinfo=TzInfo(UTC))}"
      ]
     },
     "execution_count": 10,
     "metadata": {},
     "output_type": "execute_result"
    }
   ],
   "source": [
    "from alpaca.trading.requests import LimitOrderRequest\n",
    "from alpaca.trading.enums import OrderSide,TimeInForce\n",
    "\n",
    "symbol='NVDA'\n",
    "lmt_object=LimitOrderRequest(\n",
    "    symbol=symbol,\n",
    "    qty=2,\n",
    "    side=OrderSide.BUY,\n",
    "    time_in_force=TimeInForce.GTC,\n",
    "    limit_price=180,\n",
    "\n",
    ")\n",
    "order=trading_client.submit_order(lmt_object)\n",
    "order"
   ]
  },
  {
   "cell_type": "markdown",
   "id": "df2c9d80",
   "metadata": {},
   "source": [
    "lmt order crypto"
   ]
  },
  {
   "cell_type": "code",
   "execution_count": 13,
   "id": "842ff594",
   "metadata": {},
   "outputs": [
    {
     "data": {
      "text/plain": [
       "{   'asset_class': <AssetClass.CRYPTO: 'crypto'>,\n",
       "    'asset_id': UUID('9226ef75-ba41-4a4b-a1b4-96e1a1b818f0'),\n",
       "    'canceled_at': None,\n",
       "    'client_order_id': '1f436432-774a-43a1-a21d-5c32e8e08d20',\n",
       "    'created_at': datetime.datetime(2025, 8, 10, 11, 40, 32, 322152, tzinfo=TzInfo(UTC)),\n",
       "    'expired_at': None,\n",
       "    'expires_at': datetime.datetime(2025, 11, 6, 21, 0, tzinfo=TzInfo(UTC)),\n",
       "    'extended_hours': False,\n",
       "    'failed_at': None,\n",
       "    'filled_at': None,\n",
       "    'filled_avg_price': None,\n",
       "    'filled_qty': '0',\n",
       "    'hwm': None,\n",
       "    'id': UUID('4406df95-6c4b-43c2-a274-073d2888d319'),\n",
       "    'legs': None,\n",
       "    'limit_price': '176',\n",
       "    'notional': None,\n",
       "    'order_class': <OrderClass.SIMPLE: 'simple'>,\n",
       "    'order_type': <OrderType.LIMIT: 'limit'>,\n",
       "    'position_intent': <PositionIntent.BUY_TO_OPEN: 'buy_to_open'>,\n",
       "    'qty': '1',\n",
       "    'ratio_qty': None,\n",
       "    'replaced_at': None,\n",
       "    'replaced_by': None,\n",
       "    'replaces': None,\n",
       "    'side': <OrderSide.BUY: 'buy'>,\n",
       "    'status': <OrderStatus.PENDING_NEW: 'pending_new'>,\n",
       "    'stop_price': None,\n",
       "    'submitted_at': datetime.datetime(2025, 8, 10, 11, 40, 32, 322152, tzinfo=TzInfo(UTC)),\n",
       "    'symbol': 'SOL/USD',\n",
       "    'time_in_force': <TimeInForce.GTC: 'gtc'>,\n",
       "    'trail_percent': None,\n",
       "    'trail_price': None,\n",
       "    'type': <OrderType.LIMIT: 'limit'>,\n",
       "    'updated_at': datetime.datetime(2025, 8, 10, 11, 40, 32, 323543, tzinfo=TzInfo(UTC))}"
      ]
     },
     "execution_count": 13,
     "metadata": {},
     "output_type": "execute_result"
    }
   ],
   "source": [
    "from alpaca.trading.requests import LimitOrderRequest\n",
    "from alpaca.trading.enums import OrderSide,TimeInForce\n",
    "\n",
    "symbol='SOL/USD'\n",
    "lmt_object=LimitOrderRequest(\n",
    "    symbol=symbol,\n",
    "    qty=1,\n",
    "    side=OrderSide.BUY,\n",
    "    time_in_force=TimeInForce.GTC,\n",
    "    limit_price=176,\n",
    "\n",
    ")\n",
    "order=trading_client.submit_order(lmt_object)\n",
    "order"
   ]
  },
  {
   "cell_type": "markdown",
   "id": "e13997b2",
   "metadata": {},
   "source": [
    "stop market order"
   ]
  },
  {
   "cell_type": "code",
   "execution_count": 14,
   "id": "876dfcd0",
   "metadata": {},
   "outputs": [
    {
     "data": {
      "text/plain": [
       "{   'asset_class': <AssetClass.US_EQUITY: 'us_equity'>,\n",
       "    'asset_id': UUID('f801f835-bfe6-4a9d-a6b1-ccbb84bfd75f'),\n",
       "    'canceled_at': None,\n",
       "    'client_order_id': 'e1e4a904-8c2f-4277-8a4c-ca11cad8a27b',\n",
       "    'created_at': datetime.datetime(2025, 8, 10, 11, 49, 12, 182476, tzinfo=TzInfo(UTC)),\n",
       "    'expired_at': None,\n",
       "    'expires_at': datetime.datetime(2025, 11, 7, 21, 0, tzinfo=TzInfo(UTC)),\n",
       "    'extended_hours': False,\n",
       "    'failed_at': None,\n",
       "    'filled_at': None,\n",
       "    'filled_avg_price': None,\n",
       "    'filled_qty': '0',\n",
       "    'hwm': None,\n",
       "    'id': UUID('9d38a313-e147-446e-9e02-64a668aadf17'),\n",
       "    'legs': None,\n",
       "    'limit_price': None,\n",
       "    'notional': None,\n",
       "    'order_class': <OrderClass.SIMPLE: 'simple'>,\n",
       "    'order_type': <OrderType.STOP: 'stop'>,\n",
       "    'position_intent': <PositionIntent.SELL_TO_OPEN: 'sell_to_open'>,\n",
       "    'qty': '1',\n",
       "    'ratio_qty': None,\n",
       "    'replaced_at': None,\n",
       "    'replaced_by': None,\n",
       "    'replaces': None,\n",
       "    'side': <OrderSide.SELL: 'sell'>,\n",
       "    'status': <OrderStatus.ACCEPTED: 'accepted'>,\n",
       "    'stop_price': '220',\n",
       "    'submitted_at': datetime.datetime(2025, 8, 10, 11, 49, 12, 182476, tzinfo=TzInfo(UTC)),\n",
       "    'symbol': 'AMZN',\n",
       "    'time_in_force': <TimeInForce.GTC: 'gtc'>,\n",
       "    'trail_percent': None,\n",
       "    'trail_price': None,\n",
       "    'type': <OrderType.STOP: 'stop'>,\n",
       "    'updated_at': datetime.datetime(2025, 8, 10, 11, 49, 12, 183739, tzinfo=TzInfo(UTC))}"
      ]
     },
     "execution_count": 14,
     "metadata": {},
     "output_type": "execute_result"
    }
   ],
   "source": [
    "from alpaca.trading.requests import StopOrderRequest\n",
    "\n",
    "stop_order_data=StopOrderRequest(\n",
    "                    symbol=\"AMZN\",\n",
    "                    stop_price=220,\n",
    "                    qty=1,\n",
    "                    side=OrderSide.SELL,\n",
    "                    time_in_force=TimeInForce.GTC\n",
    ")\n",
    "\n",
    "stop_market_order = trading_client.submit_order(\n",
    "                order_data=stop_order_data\n",
    "              )\n",
    "stop_market_order"
   ]
  },
  {
   "cell_type": "markdown",
   "id": "2e35c8c7",
   "metadata": {},
   "source": [
    "stop market order crypto"
   ]
  },
  {
   "cell_type": "code",
   "execution_count": null,
   "id": "3f41d1fc",
   "metadata": {},
   "outputs": [],
   "source": [
    "from alpaca.trading.requests import StopOrderRequest\n",
    "\n",
    "stop_order_data=StopOrderRequest(\n",
    "                    symbol='SOL/USD',\n",
    "                    stop_price=178,\n",
    "                    qty=1,\n",
    "                    side=OrderSide.SELL,\n",
    "                    time_in_force=TimeInForce.GTC\n",
    ")\n",
    "\n",
    "stop_market_order = trading_client.submit_order(\n",
    "                order_data=stop_order_data\n",
    "              )\n",
    "stop_market_order"
   ]
  },
  {
   "cell_type": "markdown",
   "id": "c2c4370e",
   "metadata": {},
   "source": [
    "stop limit order for stocks"
   ]
  },
  {
   "cell_type": "code",
   "execution_count": 17,
   "id": "3e4e2160",
   "metadata": {},
   "outputs": [
    {
     "data": {
      "text/plain": [
       "{   'asset_class': <AssetClass.US_EQUITY: 'us_equity'>,\n",
       "    'asset_id': UUID('f30d734c-2806-4d0d-b145-f9fade61432b'),\n",
       "    'canceled_at': None,\n",
       "    'client_order_id': '63a92b55-e873-4a1c-a9b1-21fb2c863543',\n",
       "    'created_at': datetime.datetime(2025, 8, 10, 11, 54, 51, 212411, tzinfo=TzInfo(UTC)),\n",
       "    'expired_at': None,\n",
       "    'expires_at': datetime.datetime(2025, 8, 11, 20, 0, tzinfo=TzInfo(UTC)),\n",
       "    'extended_hours': False,\n",
       "    'failed_at': None,\n",
       "    'filled_at': None,\n",
       "    'filled_avg_price': None,\n",
       "    'filled_qty': '0',\n",
       "    'hwm': None,\n",
       "    'id': UUID('3f65d7c0-0650-4dfe-8d26-8889c355fdbd'),\n",
       "    'legs': None,\n",
       "    'limit_price': '200',\n",
       "    'notional': None,\n",
       "    'order_class': <OrderClass.SIMPLE: 'simple'>,\n",
       "    'order_type': <OrderType.STOP_LIMIT: 'stop_limit'>,\n",
       "    'position_intent': <PositionIntent.SELL_TO_OPEN: 'sell_to_open'>,\n",
       "    'qty': '1',\n",
       "    'ratio_qty': None,\n",
       "    'replaced_at': None,\n",
       "    'replaced_by': None,\n",
       "    'replaces': None,\n",
       "    'side': <OrderSide.SELL: 'sell'>,\n",
       "    'status': <OrderStatus.ACCEPTED: 'accepted'>,\n",
       "    'stop_price': '200',\n",
       "    'submitted_at': datetime.datetime(2025, 8, 10, 11, 54, 51, 212411, tzinfo=TzInfo(UTC)),\n",
       "    'symbol': 'GOOG',\n",
       "    'time_in_force': <TimeInForce.DAY: 'day'>,\n",
       "    'trail_percent': None,\n",
       "    'trail_price': None,\n",
       "    'type': <OrderType.STOP_LIMIT: 'stop_limit'>,\n",
       "    'updated_at': datetime.datetime(2025, 8, 10, 11, 54, 51, 213924, tzinfo=TzInfo(UTC))}"
      ]
     },
     "execution_count": 17,
     "metadata": {},
     "output_type": "execute_result"
    }
   ],
   "source": [
    "from alpaca.trading.requests import StopLimitOrderRequest\n",
    "stop_limit_order_data=StopLimitOrderRequest(\n",
    "                    symbol=\"GOOG\",\n",
    "                    stop_price=200,\n",
    "                    limit_price=200,\n",
    "                    qty=1,\n",
    "                    side=OrderSide.SELL,\n",
    "                    time_in_force=TimeInForce.DAY   \n",
    ")\n",
    "\n",
    "stop_limit_order = trading_client.submit_order(\n",
    "                order_data=stop_limit_order_data\n",
    "              )\n",
    "stop_limit_order"
   ]
  },
  {
   "cell_type": "markdown",
   "id": "fc47a3d4",
   "metadata": {},
   "source": [
    "stop limit order crypto"
   ]
  },
  {
   "cell_type": "code",
   "execution_count": 19,
   "id": "20129c6a",
   "metadata": {},
   "outputs": [
    {
     "data": {
      "text/plain": [
       "{   'asset_class': <AssetClass.CRYPTO: 'crypto'>,\n",
       "    'asset_id': UUID('9226ef75-ba41-4a4b-a1b4-96e1a1b818f0'),\n",
       "    'canceled_at': None,\n",
       "    'client_order_id': 'b91ea1bf-8376-487a-a461-6478bcdc5b88',\n",
       "    'created_at': datetime.datetime(2025, 8, 10, 11, 57, 10, 457909, tzinfo=TzInfo(UTC)),\n",
       "    'expired_at': None,\n",
       "    'expires_at': datetime.datetime(2025, 11, 6, 21, 0, tzinfo=TzInfo(UTC)),\n",
       "    'extended_hours': False,\n",
       "    'failed_at': None,\n",
       "    'filled_at': None,\n",
       "    'filled_avg_price': None,\n",
       "    'filled_qty': '0',\n",
       "    'hwm': None,\n",
       "    'id': UUID('1b5b62a5-d32d-4450-bf7c-01ba29b48e73'),\n",
       "    'legs': None,\n",
       "    'limit_price': '178',\n",
       "    'notional': None,\n",
       "    'order_class': <OrderClass.SIMPLE: 'simple'>,\n",
       "    'order_type': <OrderType.STOP_LIMIT: 'stop_limit'>,\n",
       "    'position_intent': <PositionIntent.SELL_TO_CLOSE: 'sell_to_close'>,\n",
       "    'qty': '0.9975',\n",
       "    'ratio_qty': None,\n",
       "    'replaced_at': None,\n",
       "    'replaced_by': None,\n",
       "    'replaces': None,\n",
       "    'side': <OrderSide.SELL: 'sell'>,\n",
       "    'status': <OrderStatus.NEW: 'new'>,\n",
       "    'stop_price': '178',\n",
       "    'submitted_at': datetime.datetime(2025, 8, 10, 11, 57, 10, 457909, tzinfo=TzInfo(UTC)),\n",
       "    'symbol': 'SOL/USD',\n",
       "    'time_in_force': <TimeInForce.GTC: 'gtc'>,\n",
       "    'trail_percent': None,\n",
       "    'trail_price': None,\n",
       "    'type': <OrderType.STOP_LIMIT: 'stop_limit'>,\n",
       "    'updated_at': datetime.datetime(2025, 8, 10, 11, 57, 10, 459449, tzinfo=TzInfo(UTC))}"
      ]
     },
     "execution_count": 19,
     "metadata": {},
     "output_type": "execute_result"
    }
   ],
   "source": [
    "# stop limit order\n",
    "#fractional orders must be DAY orders\n",
    "req = StopLimitOrderRequest(\n",
    "                    symbol = 'SOL/USD',\n",
    "                    qty = 0.9975,\n",
    "                    side = OrderSide.SELL,\n",
    "                    time_in_force = TimeInForce.GTC,\n",
    "                    limit_price = 178,\n",
    "                    stop_price = 178\n",
    "                    )\n",
    "\n",
    "res = trading_client.submit_order(req)\n",
    "res"
   ]
  }
 ],
 "metadata": {
  "kernelspec": {
   "display_name": ".venv",
   "language": "python",
   "name": "python3"
  },
  "language_info": {
   "codemirror_mode": {
    "name": "ipython",
    "version": 3
   },
   "file_extension": ".py",
   "mimetype": "text/x-python",
   "name": "python",
   "nbconvert_exporter": "python",
   "pygments_lexer": "ipython3",
   "version": "3.12.8"
  }
 },
 "nbformat": 4,
 "nbformat_minor": 5
}
