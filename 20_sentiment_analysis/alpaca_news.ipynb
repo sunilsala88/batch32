{
 "cells": [
  {
   "cell_type": "code",
   "execution_count": null,
   "id": "2b3fc6f1",
   "metadata": {},
   "outputs": [],
   "source": [
    "from alpaca.data.historical.news import NewsClient\n",
    "from alpaca.data.requests import NewsRequest\n",
    "from datetime import datetime\n",
    "\n",
    "api_key='PKCGQ99MC5FQA1P8ZSRE'\n",
    "secret_key='rkWLI1F2poiTbuERdzozfOLgVV6mrFKTH27Ugvb1'\n",
    "# no keys required for news data\n",
    "client = NewsClient(api_key=api_key,secret_key=secret_key)\n",
    "\n",
    "request_params = NewsRequest(\n",
    "                        symbols=\"AAPL\",\n",
    "                        start=datetime.strptime('2016-01-01', '%Y-%m-%d'),\n",
    "                        end=datetime.strptime('2023-12-01', '%Y-%m-%d'),\n",
    "                        include_content=True,\n",
    "                        exclude_contentless = True  \n",
    "                        )\n",
    "\n",
    "news = client.get_news(request_params)\n",
    "\n",
    "# convert to dataframe\n",
    "data=news.df\n",
    "data"
   ]
  },
  {
   "cell_type": "code",
   "execution_count": null,
   "id": "a81ede9e",
   "metadata": {},
   "outputs": [],
   "source": [
    "# Dataframe to store the news article information\n",
    "# data[['id', 'created_at', 'updated_at', 'headline', 'content']]\n",
    "data=data.reset_index()[['id', 'created_at', 'updated_at', 'headline', 'content']]\n",
    "data"
   ]
  },
  {
   "cell_type": "code",
   "execution_count": null,
   "id": "944ee97b",
   "metadata": {},
   "outputs": [],
   "source": [
    "data.to_pickle('new_data.pickle')"
   ]
  },
  {
   "cell_type": "code",
   "execution_count": null,
   "id": "be871814",
   "metadata": {},
   "outputs": [],
   "source": [
    "data.to_pickle('new_data.pickle')\n",
    "import pandas as pd\n",
    "data=pd.read_pickle('new_data.pickle')\n",
    "data"
   ]
  }
 ],
 "metadata": {
  "kernelspec": {
   "display_name": ".venv",
   "language": "python",
   "name": "python3"
  },
  "language_info": {
   "codemirror_mode": {
    "name": "ipython",
    "version": 3
   },
   "file_extension": ".py",
   "mimetype": "text/x-python",
   "name": "python",
   "nbconvert_exporter": "python",
   "pygments_lexer": "ipython3",
   "version": "3.12.8"
  }
 },
 "nbformat": 4,
 "nbformat_minor": 5
}
