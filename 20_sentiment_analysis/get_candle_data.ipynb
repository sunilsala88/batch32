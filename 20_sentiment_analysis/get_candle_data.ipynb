{
 "cells": [
  {
   "cell_type": "code",
   "execution_count": 1,
   "id": "8a7a32f9",
   "metadata": {},
   "outputs": [
    {
     "name": "stderr",
     "output_type": "stream",
     "text": [
      "/var/folders/d_/rsnj8g2n4f362bxt3tz9n95w0000gn/T/ipykernel_47180/321940509.py:6: FutureWarning: YF.download() has changed argument auto_adjust default to True\n",
      "  data = yf.download('AAPL','2016-01-03','2023-12-01',multi_level_index=False)\n",
      "[*********************100%***********************]  1 of 1 completed"
     ]
    },
    {
     "name": "stdout",
     "output_type": "stream",
     "text": [
      "                 Close        High         Low        Open     Volume\n",
      "Date                                                                 \n",
      "2016-01-04   23.776190   23.780705   23.020137   23.157806  270597600\n",
      "2016-01-05   23.180367   23.889025   23.112661   23.866457  223164000\n",
      "2016-01-06   22.726732   23.103632   22.539413   22.695136  273829600\n",
      "2016-01-07   21.767559   22.598089   21.763046   22.270843  324377600\n",
      "2016-01-08   21.882660   22.367888   21.837523   22.241504  283192000\n",
      "...                ...         ...         ...         ...        ...\n",
      "2023-11-24  188.375137  189.297322  187.661181  189.267575   24048300\n",
      "2023-11-27  188.196671  189.069288  187.314143  188.325584   40552600\n",
      "2023-11-28  188.801498  189.475797  187.809894  188.186708   38415400\n",
      "2023-11-29  187.780182  190.477348  187.383546  189.297336   43014200\n",
      "2023-11-30  188.355316  188.722220  186.610097  188.246239   48794400\n",
      "\n",
      "[1992 rows x 5 columns]\n"
     ]
    },
    {
     "name": "stderr",
     "output_type": "stream",
     "text": [
      "\n"
     ]
    }
   ],
   "source": [
    "#get ohlc daily data from alpaca\n",
    "\n",
    "import yfinance as yf\n",
    "\n",
    "# Get the data for the stock AAPL\n",
    "data = yf.download('AAPL','2016-01-03','2023-12-01',multi_level_index=False)\n",
    "print(data)\n",
    "data.to_csv('AAPL_history.csv')"
   ]
  }
 ],
 "metadata": {
  "kernelspec": {
   "display_name": ".venv",
   "language": "python",
   "name": "python3"
  },
  "language_info": {
   "codemirror_mode": {
    "name": "ipython",
    "version": 3
   },
   "file_extension": ".py",
   "mimetype": "text/x-python",
   "name": "python",
   "nbconvert_exporter": "python",
   "pygments_lexer": "ipython3",
   "version": "3.12.8"
  }
 },
 "nbformat": 4,
 "nbformat_minor": 5
}
