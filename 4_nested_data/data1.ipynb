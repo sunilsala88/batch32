{
 "cells": [
  {
   "cell_type": "code",
   "execution_count": 8,
   "id": "437a1fd8",
   "metadata": {},
   "outputs": [
    {
     "data": {
      "text/plain": [
       "78"
      ]
     },
     "execution_count": 8,
     "metadata": {},
     "output_type": "execute_result"
    }
   ],
   "source": [
    "l1=[ [2,3,4], [5,6,7], [77,88,99, [89,78,67] ] ]\n",
    "l1[2][3][1]"
   ]
  },
  {
   "cell_type": "code",
   "execution_count": null,
   "id": "3b730cfa",
   "metadata": {},
   "outputs": [],
   "source": [
    "l2=[44,55,66,[67,57,46,[78,90,92,[12,13,14]]]]\n"
   ]
  }
 ],
 "metadata": {
  "kernelspec": {
   "display_name": "Python 3",
   "language": "python",
   "name": "python3"
  },
  "language_info": {
   "codemirror_mode": {
    "name": "ipython",
    "version": 3
   },
   "file_extension": ".py",
   "mimetype": "text/x-python",
   "name": "python",
   "nbconvert_exporter": "python",
   "pygments_lexer": "ipython3",
   "version": "3.12.8"
  }
 },
 "nbformat": 4,
 "nbformat_minor": 5
}
