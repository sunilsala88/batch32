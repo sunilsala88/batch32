{
 "cells": [
  {
   "cell_type": "code",
   "execution_count": 8,
   "id": "437a1fd8",
   "metadata": {},
   "outputs": [
    {
     "data": {
      "text/plain": [
       "78"
      ]
     },
     "execution_count": 8,
     "metadata": {},
     "output_type": "execute_result"
    }
   ],
   "source": [
    "l1=[ [2,3,4], [5,6,7], [77,88,99, [89,78,67] ] ]\n",
    "l1[2][3][1]"
   ]
  },
  {
   "cell_type": "markdown",
   "id": "40d2bd52",
   "metadata": {},
   "source": [
    "list of list"
   ]
  },
  {
   "cell_type": "code",
   "execution_count": 13,
   "id": "3b730cfa",
   "metadata": {},
   "outputs": [
    {
     "data": {
      "text/plain": [
       "13"
      ]
     },
     "execution_count": 13,
     "metadata": {},
     "output_type": "execute_result"
    }
   ],
   "source": [
    "l2=[44,55,66,[67,57,46,[78,90,92,[12,13,14]]]]\n",
    "l2[3][3][3][1]"
   ]
  },
  {
   "cell_type": "markdown",
   "id": "e8de8dc4",
   "metadata": {},
   "source": [
    "dict of list"
   ]
  },
  {
   "cell_type": "code",
   "execution_count": 17,
   "id": "61fcda60",
   "metadata": {},
   "outputs": [
    {
     "data": {
      "text/plain": [
       "666"
      ]
     },
     "execution_count": 17,
     "metadata": {},
     "output_type": "execute_result"
    }
   ],
   "source": [
    "d1={\n",
    "    'tech':[333,444,555,666],\n",
    "    'fin':[66,77,88],\n",
    "    'gas':[89,67,45]\n",
    "}\n",
    "d1.get('tech')[3]\n",
    "# d1['tech'][3]"
   ]
  },
  {
   "cell_type": "code",
   "execution_count": 20,
   "id": "ffb08b2c",
   "metadata": {},
   "outputs": [
    {
     "data": {
      "text/plain": [
       "683"
      ]
     },
     "execution_count": 20,
     "metadata": {},
     "output_type": "execute_result"
    }
   ],
   "source": [
    "d2={\n",
    "    'tech':{'tcs':600,'amzn':780,'goog':890},\n",
    "    'fin':{'jpmorgan':678,'hdfc':683},\n",
    "    'telecom':{'airtel':789,'jio':567}\n",
    "}\n",
    "d2.get('fin').get('hdfc')\n",
    "d2['fin']['hdfc']"
   ]
  },
  {
   "cell_type": "code",
   "execution_count": null,
   "id": "2973e30c",
   "metadata": {},
   "outputs": [],
   "source": [
    "hedge_fund_portfolio = {\n",
    "    \"fund_name\": \"Alpha Investments\",\n",
    "    \"portfolio_value\": 50000000,\n",
    "    \"investments\": [\n",
    "        {\n",
    "            \"type\": \"Equity\",\n",
    "            \"holdings\": [\n",
    "                {\"ticker\": \"AAPL\", \"quantity\": 10000, \"average_buy_price\": 120},\n",
    "                {\"ticker\": \"TSLA\", \"quantity\": 5000, \"average_buy_price\": 600}\n",
    "            ]\n",
    "        },\n",
    "        {\n",
    "            \"type\": \"Fixed Income\",\n",
    "            \"holdings\": [\n",
    "                {\"bond_issue\": \"US Treasuries\", \"amount\": 10000000, \"yield\": 1.5}\n",
    "            ]\n",
    "        },\n",
    "        {\n",
    "            \"type\": \"Derivatives\",\n",
    "            \"holdings\": [\n",
    "                {\"instrument\": \"Options\", \"details\": {\"underlying\": \"GOOGL\", \"type\": \"Call\", \"strike_price\": 1500}}\n",
    "            ]\n",
    "        }\n",
    "    ],\n",
    " \n",
    "    \"performance_metrics\": {\n",
    "        \"year_to_date_return\": 5.2,\n",
    "        \"five_year_annualized_return\": 7.1\n",
    "    }\n",
    "}"
   ]
  },
  {
   "cell_type": "code",
   "execution_count": null,
   "id": "d57f0ac4",
   "metadata": {},
   "outputs": [
    {
     "name": "stdout",
     "output_type": "stream",
     "text": [
      "600\n"
     ]
    },
    {
     "data": {
      "text/plain": [
       "int"
      ]
     },
     "execution_count": 34,
     "metadata": {},
     "output_type": "execute_result"
    }
   ],
   "source": [
    "a=hedge_fund_portfolio.get('investments')[0].get('holdings')[1].get('average_buy_price')\n",
    "print(a)\n",
    "type(a)"
   ]
  },
  {
   "cell_type": "code",
   "execution_count": 41,
   "id": "783cfc98",
   "metadata": {},
   "outputs": [
    {
     "name": "stdout",
     "output_type": "stream",
     "text": [
      "1500\n"
     ]
    },
    {
     "data": {
      "text/plain": [
       "int"
      ]
     },
     "execution_count": 41,
     "metadata": {},
     "output_type": "execute_result"
    }
   ],
   "source": [
    "a=hedge_fund_portfolio.get('investments')[2].get('holdings')[0].get('details').get('strike_price')\n",
    "print(a)\n",
    "type(a)"
   ]
  },
  {
   "cell_type": "code",
   "execution_count": 42,
   "id": "cdb21aea",
   "metadata": {},
   "outputs": [],
   "source": [
    "credit_risk_profiles = {\n",
    "    \"individuals\": [\n",
    "        {\n",
    "            \"name\": \"John Doe\",\n",
    "            \"credit_score\": 750,\n",
    "            \"outstanding_loans\": {\n",
    "                \"auto_loan\": {\"amount\": 20000, \"interest_rate\": 3.5},\n",
    "                \"home_loan\": {\"amount\": 150000, \"interest_rate\": 2.8}\n",
    "            },\n",
    "            \"payment_history\": [(\"2024-01-10\", \"On Time\"), (\"2024-01-01\", \"Late\")]\n",
    "        },\n",
    "        {\n",
    "            \"name\": \"Jane Smith\",\n",
    "            \"credit_score\": 680,\n",
    "            \"outstanding_loans\": {\n",
    "                \"credit_card\": {\"amount\": 5000, \"interest_rate\": 12.0}\n",
    "            },\n",
    "            \"payment_history\": [(\"2024-01-10\", \"On Time\")]\n",
    "        }\n",
    "    ]\n",
    "}"
   ]
  },
  {
   "cell_type": "code",
   "execution_count": 54,
   "id": "1412e972",
   "metadata": {},
   "outputs": [
    {
     "name": "stdout",
     "output_type": "stream",
     "text": [
      "Late\n"
     ]
    },
    {
     "data": {
      "text/plain": [
       "str"
      ]
     },
     "execution_count": 54,
     "metadata": {},
     "output_type": "execute_result"
    }
   ],
   "source": [
    "b=credit_risk_profiles.get('individuals')[0].get('payment_history')[1][1]\n",
    "print(b)\n",
    "type(b)"
   ]
  },
  {
   "cell_type": "code",
   "execution_count": 48,
   "id": "3ee7ea17",
   "metadata": {},
   "outputs": [
    {
     "name": "stdout",
     "output_type": "stream",
     "text": [
      "12.0\n"
     ]
    },
    {
     "data": {
      "text/plain": [
       "float"
      ]
     },
     "execution_count": 48,
     "metadata": {},
     "output_type": "execute_result"
    }
   ],
   "source": [
    "b=credit_risk_profiles.get('individuals')[1].get('outstanding_loans').get('credit_card').get('interest_rate')\n",
    "print(b)\n",
    "type(b)"
   ]
  },
  {
   "cell_type": "code",
   "execution_count": 69,
   "id": "40bddd8e",
   "metadata": {},
   "outputs": [],
   "source": [
    "foreign_exchange = {\n",
    "    \"base_currency\": \"USD\",\n",
    "    \"exchange_rates\": {\n",
    "        \"EUR\": {\n",
    "            \"current_rate\": 0.85,\n",
    "            \"historical_rates\": [\n",
    "                {\"date\": \"2024-01-10\", \"rate\": 0.84},\n",
    "                {\"date\": \"2024-01-09\", \"rate\": 0.85}\n",
    "            ]\n",
    "        },\n",
    "        \"JPY\": {\n",
    "            \"current_rate\": 110.00,\n",
    "            \"historical_rates\": [\n",
    "                {\"date\": \"2024-01-10\", \"rate\": 109.50},\n",
    "                {\"date\": \"2024-01-09\", \"rate\": 110.20}\n",
    "            ]\n",
    "        }\n",
    "    }\n",
    "}\n"
   ]
  },
  {
   "cell_type": "code",
   "execution_count": 70,
   "id": "4dc6bc8a",
   "metadata": {},
   "outputs": [
    {
     "data": {
      "text/plain": [
       "{'base_currency': 'USD',\n",
       " 'exchange_rates': {'EUR': {'current_rate': 0.85,\n",
       "   'historical_rates': [{'date': '2024-01-10', 'rate': 0.84},\n",
       "    {'date': '2024-01-09', 'rate': 0.85}]},\n",
       "  'JPY': {'current_rate': 110.0,\n",
       "   'historical_rates': [{'date': '2024-01-10', 'rate': 109.5},\n",
       "    {'date': '2024-01-09', 'rate': 110.2}]},\n",
       "  'GBP': {'current_rate': 0.75,\n",
       "   'historical_rates': [{'date': '2024-01-10', 'rate': 0.76},\n",
       "    {'date': '2024-01-09', 'rate': 0.77}]}}}"
      ]
     },
     "execution_count": 70,
     "metadata": {},
     "output_type": "execute_result"
    }
   ],
   "source": [
    "data={\n",
    "            \"current_rate\": 0.75,\n",
    "            \"historical_rates\": [\n",
    "                {\"date\": \"2024-01-10\", \"rate\": 0.76},\n",
    "                {\"date\": \"2024-01-09\", \"rate\": 0.77}\n",
    "            ]\n",
    "        }\n",
    "foreign_exchange.get('exchange_rates').update({'GBP':data})\n",
    "foreign_exchange"
   ]
  },
  {
   "cell_type": "code",
   "execution_count": 68,
   "id": "3213e2d2",
   "metadata": {},
   "outputs": [
    {
     "name": "stdout",
     "output_type": "stream",
     "text": [
      "2024-01-09\n"
     ]
    },
    {
     "data": {
      "text/plain": [
       "str"
      ]
     },
     "execution_count": 68,
     "metadata": {},
     "output_type": "execute_result"
    }
   ],
   "source": [
    "c1=foreign_exchange.get('exchange_rates').get('EUR').get('historical_rates')[1].get('date')\n",
    "print(c1)\n",
    "type(c1)"
   ]
  },
  {
   "cell_type": "code",
   "execution_count": 61,
   "id": "632c3920",
   "metadata": {},
   "outputs": [
    {
     "name": "stdout",
     "output_type": "stream",
     "text": [
      "110.2\n"
     ]
    },
    {
     "data": {
      "text/plain": [
       "float"
      ]
     },
     "execution_count": 61,
     "metadata": {},
     "output_type": "execute_result"
    }
   ],
   "source": [
    "c1=foreign_exchange.get('exchange_rates').get('JPY').get('historical_rates')[1].get('rate')\n",
    "print(c1)\n",
    "type(c1)"
   ]
  }
 ],
 "metadata": {
  "kernelspec": {
   "display_name": "Python 3",
   "language": "python",
   "name": "python3"
  },
  "language_info": {
   "codemirror_mode": {
    "name": "ipython",
    "version": 3
   },
   "file_extension": ".py",
   "mimetype": "text/x-python",
   "name": "python",
   "nbconvert_exporter": "python",
   "pygments_lexer": "ipython3",
   "version": "3.12.8"
  }
 },
 "nbformat": 4,
 "nbformat_minor": 5
}
