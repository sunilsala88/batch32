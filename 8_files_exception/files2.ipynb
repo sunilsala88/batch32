{
 "cells": [
  {
   "cell_type": "code",
   "execution_count": 1,
   "id": "e6f20f00",
   "metadata": {},
   "outputs": [],
   "source": [
    "f1=open('demo3.txt','w')\n",
    "f1.write('sample data')\n",
    "f1.close()\n"
   ]
  },
  {
   "cell_type": "code",
   "execution_count": 7,
   "id": "d5c71298",
   "metadata": {},
   "outputs": [
    {
     "name": "stdout",
     "output_type": "stream",
     "text": [
      "sample data\n"
     ]
    }
   ],
   "source": [
    "f2=open(r'/Users/new algo trading/batch32/demo3.txt','r')\n",
    "d=f2.read()\n",
    "print(d)\n",
    "f2.close()"
   ]
  },
  {
   "cell_type": "code",
   "execution_count": 8,
   "id": "87ba581c",
   "metadata": {},
   "outputs": [
    {
     "name": "stdout",
     "output_type": "stream",
     "text": [
      "{'tsla': 100, 'nifty': 600}\n"
     ]
    }
   ],
   "source": [
    "\n",
    "def get_stocks(stock_prices):\n",
    "    portfolio={}\n",
    "    while True:\n",
    "        name=input('enter the stock name (q to quit)')\n",
    "        if name.upper()=='Q':\n",
    "            break\n",
    "        found=stock_prices.get(name)\n",
    "        if found:\n",
    "            portfolio.update({name:found})\n",
    "        else:\n",
    "            print('this stock does not exist try again')\n",
    "    return portfolio\n",
    "\n",
    "def save_data(portfolio):\n",
    "    f1=open('data.txt','a')\n",
    "    total=0\n",
    "    for i,j in portfolio.items():\n",
    "        d=i+\":\"+str(j)+'\\n'\n",
    "        f1.write(d)\n",
    "        total=total+j\n",
    "    f1.write(\"total\"+\":\"+str(total)+'\\n')\n",
    "    f1.close()\n",
    "stock_prices={'tsla':100,'nifty':600,'amzn':780,'nvda':756}\n",
    "p=get_stocks(stock_prices)\n",
    "print(p)\n",
    "save_data(p)\n"
   ]
  },
  {
   "cell_type": "code",
   "execution_count": 24,
   "id": "c51b4871",
   "metadata": {},
   "outputs": [
    {
     "data": {
      "text/plain": [
       "'tsla:100\\nnifty:600\\ntotal:700\\n'"
      ]
     },
     "execution_count": 24,
     "metadata": {},
     "output_type": "execute_result"
    }
   ],
   "source": [
    "f2=open('data.txt','r')\n",
    "d=f2.read()\n",
    "d"
   ]
  },
  {
   "cell_type": "code",
   "execution_count": 26,
   "id": "13c96640",
   "metadata": {},
   "outputs": [
    {
     "name": "stdout",
     "output_type": "stream",
     "text": [
      "['tsla:100', 'nifty:600', 'total:700', '']\n",
      "['tsla', '100']\n",
      "['nifty', '600']\n",
      "['total', '700']\n",
      "{'tsla': 100, 'nifty': 600, 'total': 700}\n"
     ]
    }
   ],
   "source": [
    "input_data=d.split('\\n')\n",
    "print(input_data)\n",
    "sp={}\n",
    "for i in input_data:\n",
    "    if i==\"\":\n",
    "        continue\n",
    "    elem=i.split(\":\")\n",
    "    print(elem)\n",
    "    sp.update({elem[0]:int(elem[1])})\n",
    "print(sp)"
   ]
  }
 ],
 "metadata": {
  "kernelspec": {
   "display_name": "Python 3",
   "language": "python",
   "name": "python3"
  },
  "language_info": {
   "codemirror_mode": {
    "name": "ipython",
    "version": 3
   },
   "file_extension": ".py",
   "mimetype": "text/x-python",
   "name": "python",
   "nbconvert_exporter": "python",
   "pygments_lexer": "ipython3",
   "version": "3.12.8"
  }
 },
 "nbformat": 4,
 "nbformat_minor": 5
}
