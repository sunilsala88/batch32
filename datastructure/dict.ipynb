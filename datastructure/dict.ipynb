{
 "cells": [
  {
   "cell_type": "code",
   "execution_count": null,
   "id": "e531b8e2",
   "metadata": {},
   "outputs": [
    {
     "data": {
      "text/plain": [
       "{'amzn': 500, 'tsla': 900, 'goog': 780}"
      ]
     },
     "execution_count": 1,
     "metadata": {},
     "output_type": "execute_result"
    }
   ],
   "source": [
    "stock_prices={'amzn':500,'tsla':900,'goog':780}\n",
    "stock_prices"
   ]
  },
  {
   "cell_type": "markdown",
   "id": "32898775",
   "metadata": {},
   "source": [
    "if you want to access value you have to use key\n",
    "\n",
    "\n",
    "we dont have the concept of index in dict\n",
    "\n",
    "you cannot have 2 elem with same key"
   ]
  },
  {
   "cell_type": "markdown",
   "id": "beaa1dc3",
   "metadata": {},
   "source": [
    "accessing elem"
   ]
  },
  {
   "cell_type": "code",
   "execution_count": 17,
   "id": "6e6d37ad",
   "metadata": {},
   "outputs": [
    {
     "name": "stdout",
     "output_type": "stream",
     "text": [
      "500\n"
     ]
    },
    {
     "data": {
      "text/plain": [
       "1000"
      ]
     },
     "execution_count": 17,
     "metadata": {},
     "output_type": "execute_result"
    }
   ],
   "source": [
    "print(stock_prices.get('amzn'))\n",
    "\n",
    "#old\n",
    "stock_prices['tsla']"
   ]
  },
  {
   "cell_type": "code",
   "execution_count": null,
   "id": "027f1a0e",
   "metadata": {},
   "outputs": [],
   "source": [
    "a=[33,44]\n",
    "b={\"1\":33,'2':55}\n",
    "a[1]\n",
    "b['1']"
   ]
  },
  {
   "cell_type": "markdown",
   "id": "ff9605fe",
   "metadata": {},
   "source": [
    "add new elem"
   ]
  },
  {
   "cell_type": "code",
   "execution_count": null,
   "id": "d37402cb",
   "metadata": {},
   "outputs": [],
   "source": [
    "stock_prices.update({'nifty':700})\n",
    "\n",
    "#old\n",
    "stock_prices['nifty']=700"
   ]
  },
  {
   "cell_type": "markdown",
   "id": "47ff5070",
   "metadata": {},
   "source": [
    "updating existing elem"
   ]
  },
  {
   "cell_type": "code",
   "execution_count": null,
   "id": "3b0586ec",
   "metadata": {},
   "outputs": [],
   "source": [
    "stock_prices.update({'tsla':1000})\n",
    "\n",
    "#old\n",
    "stock_prices['tsla']=1000"
   ]
  },
  {
   "cell_type": "markdown",
   "id": "309b9082",
   "metadata": {},
   "source": [
    "delete"
   ]
  },
  {
   "cell_type": "code",
   "execution_count": null,
   "id": "b0da171a",
   "metadata": {},
   "outputs": [
    {
     "data": {
      "text/plain": [
       "700"
      ]
     },
     "execution_count": 14,
     "metadata": {},
     "output_type": "execute_result"
    }
   ],
   "source": [
    "stock_prices.pop('nifty')\n",
    "\n",
    "#old\n",
    "del stock_prices['nifty']"
   ]
  },
  {
   "cell_type": "code",
   "execution_count": 15,
   "id": "be62610b",
   "metadata": {},
   "outputs": [
    {
     "data": {
      "text/plain": [
       "{'amzn': 500, 'tsla': 1000, 'goog': 780}"
      ]
     },
     "execution_count": 15,
     "metadata": {},
     "output_type": "execute_result"
    }
   ],
   "source": [
    "stock_prices"
   ]
  },
  {
   "cell_type": "code",
   "execution_count": 12,
   "id": "36795859",
   "metadata": {},
   "outputs": [
    {
     "data": {
      "text/plain": [
       "dict"
      ]
     },
     "execution_count": 12,
     "metadata": {},
     "output_type": "execute_result"
    }
   ],
   "source": [
    "a={1:55}\n",
    "type(a)"
   ]
  }
 ],
 "metadata": {
  "kernelspec": {
   "display_name": "Python 3",
   "language": "python",
   "name": "python3"
  },
  "language_info": {
   "codemirror_mode": {
    "name": "ipython",
    "version": 3
   },
   "file_extension": ".py",
   "mimetype": "text/x-python",
   "name": "python",
   "nbconvert_exporter": "python",
   "pygments_lexer": "ipython3",
   "version": "3.12.8"
  }
 },
 "nbformat": 4,
 "nbformat_minor": 5
}
