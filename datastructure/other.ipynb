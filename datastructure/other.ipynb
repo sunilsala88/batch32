{
 "cells": [
  {
   "cell_type": "code",
   "execution_count": 11,
   "id": "1078c027",
   "metadata": {},
   "outputs": [
    {
     "data": {
      "text/plain": [
       "4"
      ]
     },
     "execution_count": 11,
     "metadata": {},
     "output_type": "execute_result"
    }
   ],
   "source": [
    "'hello'.index('o')"
   ]
  },
  {
   "cell_type": "code",
   "execution_count": 12,
   "id": "f713be28",
   "metadata": {},
   "outputs": [
    {
     "data": {
      "text/plain": [
       "['tsla', 'amzn', 66, 77, 67]"
      ]
     },
     "execution_count": 12,
     "metadata": {},
     "output_type": "execute_result"
    }
   ],
   "source": [
    "a=['tsla','amzn',66,77]\n",
    "a.append(67)\n",
    "a"
   ]
  },
  {
   "cell_type": "code",
   "execution_count": 13,
   "id": "7945924f",
   "metadata": {},
   "outputs": [
    {
     "data": {
      "text/plain": [
       "90"
      ]
     },
     "execution_count": 13,
     "metadata": {},
     "output_type": "execute_result"
    }
   ],
   "source": [
    "b={'tsla':77,'amzn':90}\n",
    "b.update({'nifty':80})\n",
    "b.get('amzn')"
   ]
  },
  {
   "cell_type": "markdown",
   "id": "e5ee2675",
   "metadata": {},
   "source": [
    "tuple\n",
    "\n",
    "immutable\n",
    "\n",
    "()"
   ]
  },
  {
   "cell_type": "code",
   "execution_count": 14,
   "id": "15d50123",
   "metadata": {},
   "outputs": [
    {
     "data": {
      "text/plain": [
       "1"
      ]
     },
     "execution_count": 14,
     "metadata": {},
     "output_type": "execute_result"
    }
   ],
   "source": [
    "n1=(44,55,66,88,99)\n",
    "n1[1:3]\n",
    "n1.index(55)"
   ]
  },
  {
   "cell_type": "markdown",
   "id": "48124a90",
   "metadata": {},
   "source": [
    "set\n",
    "\n",
    "we uee {}\n",
    "\n",
    "we cannot have duplicates"
   ]
  },
  {
   "cell_type": "code",
   "execution_count": 15,
   "id": "863b99e9",
   "metadata": {},
   "outputs": [
    {
     "data": {
      "text/plain": [
       "{55, 77, 88, 89}"
      ]
     },
     "execution_count": 15,
     "metadata": {},
     "output_type": "execute_result"
    }
   ],
   "source": [
    "b1={55,66,77,66,88}\n",
    "b1.add(89)\n",
    "b1.remove(66)\n",
    "b1"
   ]
  }
 ],
 "metadata": {
  "kernelspec": {
   "display_name": "Python 3",
   "language": "python",
   "name": "python3"
  },
  "language_info": {
   "codemirror_mode": {
    "name": "ipython",
    "version": 3
   },
   "file_extension": ".py",
   "mimetype": "text/x-python",
   "name": "python",
   "nbconvert_exporter": "python",
   "pygments_lexer": "ipython3",
   "version": "3.12.8"
  }
 },
 "nbformat": 4,
 "nbformat_minor": 5
}
